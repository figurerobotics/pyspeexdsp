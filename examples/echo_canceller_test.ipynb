{
 "cells": [
  {
   "cell_type": "code",
   "execution_count": 1,
   "metadata": {},
   "outputs": [
    {
     "name": "stdout",
     "output_type": "stream",
     "text": [
      "near - rate: 16000, channels: 1, length: 52.6186875\n",
      "far - rate: 16000, channels: 1\n"
     ]
    }
   ],
   "source": [
    "import wave\n",
    "\n",
    "from pyspeexdsp import EchoCanceller\n",
    "\n",
    "# Constants\n",
    "frame_size = 512\n",
    "\n",
    "# Open the near-end and far-end audio files in binary mode\n",
    "# near = wave.open(\"AEC_Mono_wDoubleTalk.wav\", \"rb\")\n",
    "near = wave.open(\"AEC_Mono.wav\", \"rb\")\n",
    "far = wave.open(\"FarEndMono.WAV\", \"rb\")\n",
    "\n",
    "# Ensure files are mono channel\n",
    "if near.getnchannels() > 1 or far.getnchannels() > 1:\n",
    "    print(\"Only support mono channel\")\n",
    "    exit()\n",
    "\n",
    "# Prepare the output file\n",
    "out = wave.open(\"output.wav\", \"wb\")\n",
    "out.setnchannels(near.getnchannels())\n",
    "out.setsampwidth(near.getsampwidth())\n",
    "out.setframerate(near.getframerate())\n",
    "\n",
    "# Print file information\n",
    "print(\n",
    "    f\"near - rate: {near.getframerate()}, channels: {near.getnchannels()}, length: {near.getnframes() / near.getframerate()}\"\n",
    ")\n",
    "print(f\"far - rate: {far.getframerate()}, channels: {far.getnchannels()}\")\n",
    "\n",
    "# Create an instance of the echo canceller\n",
    "echo_canceller = EchoCanceller(frame_size, 4096, near.getframerate())\n",
    "echo_canceller.set_echo_suppress(40)  # -40dB\n",
    "\n",
    "# Define byte length for reading frames\n",
    "in_data_len = frame_size\n",
    "in_data_bytes = frame_size * 2  # Two bytes per sample (16-bit audio)\n",
    "out_data_len = frame_size\n",
    "out_data_bytes = frame_size * 2\n",
    "\n",
    "# Process audio frames\n",
    "while True:\n",
    "    # Read frames from the near-end and far-end audio files\n",
    "    in_data = near.readframes(in_data_len)\n",
    "    out_data = far.readframes(out_data_len)\n",
    "\n",
    "    # Stop if we've reached the end of either file\n",
    "    if len(in_data) != in_data_bytes or len(out_data) != out_data_bytes:\n",
    "        break\n",
    "\n",
    "    # Process echo cancellation\n",
    "    processed_data = echo_canceller.process(in_data, out_data)\n",
    "\n",
    "    # Write processed frames to the output file\n",
    "    out.writeframes(processed_data)\n",
    "\n",
    "# Close files\n",
    "near.close()\n",
    "far.close()\n",
    "out.close()\n"
   ]
  },
  {
   "cell_type": "code",
   "execution_count": null,
   "metadata": {},
   "outputs": [],
   "source": []
  }
 ],
 "metadata": {
  "kernelspec": {
   "display_name": "spx",
   "language": "python",
   "name": "python3"
  },
  "language_info": {
   "codemirror_mode": {
    "name": "ipython",
    "version": 3
   },
   "file_extension": ".py",
   "mimetype": "text/x-python",
   "name": "python",
   "nbconvert_exporter": "python",
   "pygments_lexer": "ipython3",
   "version": "3.10.14"
  }
 },
 "nbformat": 4,
 "nbformat_minor": 2
}
